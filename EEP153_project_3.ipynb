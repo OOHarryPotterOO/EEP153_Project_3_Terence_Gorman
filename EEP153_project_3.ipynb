{
 "cells": [
  {
   "cell_type": "markdown",
   "id": "ad58dd1d",
   "metadata": {},
   "source": [
    "# __Group Project 3 - Team Terence Gorman__\n",
    "<br>\n",
    "\n",
    "\n",
    "### <span style = \"color:blue\">__Team Members: Marc Bonnot (*Team Manager*), Ce (Faye) Fang, Dojun Kim, Kimberley Fan, Jane Wang, Qianhao (Harry) Zhong__\n",
    "<br>\n",
    "\n",
    "\n",
    "## **1. Project Topic:**\n",
    "\n",
    "> \n",
    "<br>\n",
    "\n",
    "\n",
    "## **2. Project Goal:**\n",
    "\n",
    ">\n",
    "<br>\n",
    "\n",
    "\n",
    "## **3. [A] Choice of a population, with supporting expenditure data:**\n",
    "\n",
    ">\n",
    "<br>\n",
    "\n",
    "\n",
    "## **4. Data Description:**\n",
    "\n",
    ">    \n",
    "<br>\n",
    "\n",
    "\n",
    "## **5. Project Deliverables:**"
   ]
  },
  {
   "cell_type": "markdown",
   "id": "c5a0d4ed",
   "metadata": {},
   "source": [
    "### *Packages Import*:"
   ]
  },
  {
   "cell_type": "code",
   "execution_count": null,
   "id": "427b747e",
   "metadata": {},
   "outputs": [],
   "source": []
  },
  {
   "cell_type": "markdown",
   "id": "4987baf5",
   "metadata": {},
   "source": [
    "## [B] Nutritional Content of Different Foods"
   ]
  },
  {
   "cell_type": "code",
   "execution_count": null,
   "id": "586661c1",
   "metadata": {},
   "outputs": [],
   "source": []
  },
  {
   "cell_type": "markdown",
   "id": "f6b74bc0",
   "metadata": {},
   "source": [
    "## [B] Nutritional Adequacy of Diet"
   ]
  },
  {
   "cell_type": "code",
   "execution_count": null,
   "id": "ff79fd59",
   "metadata": {},
   "outputs": [],
   "source": []
  },
  {
   "cell_type": "markdown",
   "id": "c7d6c086",
   "metadata": {},
   "source": [
    "## [A] Estimate Demand System"
   ]
  },
  {
   "cell_type": "code",
   "execution_count": null,
   "id": "1568ca8d",
   "metadata": {},
   "outputs": [],
   "source": []
  },
  {
   "cell_type": "markdown",
   "id": "eef91fc7",
   "metadata": {},
   "source": [
    "## [C] Counterfactual Experiments"
   ]
  },
  {
   "cell_type": "code",
   "execution_count": null,
   "id": "69d906b6",
   "metadata": {},
   "outputs": [],
   "source": []
  },
  {
   "cell_type": "markdown",
   "id": "acacb2f9",
   "metadata": {},
   "source": [
    "## Visualization"
   ]
  },
  {
   "cell_type": "code",
   "execution_count": null,
   "id": "7a0633bc",
   "metadata": {},
   "outputs": [],
   "source": []
  }
 ],
 "metadata": {
  "kernelspec": {
   "display_name": "Python 3 (ipykernel)",
   "language": "python",
   "name": "python3"
  },
  "language_info": {
   "codemirror_mode": {
    "name": "ipython",
    "version": 3
   },
   "file_extension": ".py",
   "mimetype": "text/x-python",
   "name": "python",
   "nbconvert_exporter": "python",
   "pygments_lexer": "ipython3",
   "version": "3.11.5"
  }
 },
 "nbformat": 4,
 "nbformat_minor": 5
}
